{
 "cells": [
  {
   "cell_type": "code",
   "execution_count": 1,
   "id": "28c18d7c",
   "metadata": {},
   "outputs": [],
   "source": [
    "from astropy.io import fits, ascii\n",
    "from astropy.wcs import WCS\n",
    "import numpy as np\n",
    "import matplotlib.pyplot as plt\n",
    "import os, time\n",
    "from photutils import DAOStarFinder\n",
    "from astropy.table import QTable\n",
    "from astropy.stats import mad_std\n",
    "from photutils import aperture_photometry, CircularAperture, CircularAnnulus\n",
    "from a345_utilities import print_header         # to use this in your own scripts copy the file a345_utilities.py to your work directory\n",
    "import astropy.units as unit\n",
    "from astropy.wcs.utils import pixel_to_skycoord\n",
    "from photutils import CircularAperture, CircularAnnulus, SkyCircularAperture, aperture_photometry\n",
    "from matplotlib.colors import LogNorm\n",
    "from photutils import IRAFStarFinder\n",
    "from astropy.stats import sigma_clipped_stats\n",
    "from os import listdir"
   ]
  },
  {
   "cell_type": "code",
   "execution_count": 2,
   "id": "ba1cffbf",
   "metadata": {},
   "outputs": [],
   "source": [
    "class Star:\n",
    "    def __init__(self, ra, dec):\n",
    "        self.ra = ra\n",
    "        self.dec = dec\n",
    "        self.r = Filter()\n",
    "        self.g = Filter()\n",
    "        self.i = Filter()\n",
    "\n",
    "    \n",
    "\n",
    "class Filter:\n",
    "        \n",
    "    def __init__(self): \n",
    "        self.flux = []\n",
    "        self.mag = []\n",
    "        self.avg_mag = 0\n",
    "        self.avg_flux = 0\n",
    "            \n",
    "    def add(self, flux, mag):\n",
    "        self.flux.append(flux)\n",
    "        self.mag.append(mag)\n",
    "        \n",
    "        if not np.isnan(mag):\n",
    "            self.avg_mag = np.mean(self.mag)\n",
    "            self.avg_flux = np.mean(self.flux)"
   ]
  },
  {
   "cell_type": "code",
   "execution_count": 4,
   "id": "104b41b0",
   "metadata": {},
   "outputs": [
    {
     "name": "stdout",
     "output_type": "stream",
     "text": [
      "SolCal_M35_LIGHT_G_120_-5C_20210202_233233_768_E_0001.fits\n",
      "stars and apertures created with wcs_world2pix, starting aperture photometry\n"
     ]
    },
    {
     "name": "stderr",
     "output_type": "stream",
     "text": [
      "<ipython-input-4-0ac2f41d0552>:63: RuntimeWarning: invalid value encountered in log10\n",
      "  phot_table[f\"mag {header['FILTER']}\"] =-2.5*np.log10(filter_flux)\n",
      "WARNING: AstropyDeprecationWarning: /data/observatory/student_data/natalia_bajnokova/M35/Calibrated_3000x3000/G/data_SolCal_M35_LIGHT_G_120_-5C_20210202_233233_768_E_0001.fits.dat already exists. Automatically overwriting ASCII files is deprecated. Use the argument 'overwrite=True' in the future. [astropy.io.ascii.ui]\n"
     ]
    },
    {
     "name": "stdout",
     "output_type": "stream",
     "text": [
      "SolCal_M35_LIGHT_G_120_-5C_20210202_233505_721_E_0002.fits\n",
      "stars and apertures created with wcs_world2pix, starting aperture photometry\n"
     ]
    },
    {
     "name": "stderr",
     "output_type": "stream",
     "text": [
      "<ipython-input-4-0ac2f41d0552>:63: RuntimeWarning: invalid value encountered in log10\n",
      "  phot_table[f\"mag {header['FILTER']}\"] =-2.5*np.log10(filter_flux)\n",
      "WARNING: AstropyDeprecationWarning: /data/observatory/student_data/natalia_bajnokova/M35/Calibrated_3000x3000/G/data_SolCal_M35_LIGHT_G_120_-5C_20210202_233505_721_E_0002.fits.dat already exists. Automatically overwriting ASCII files is deprecated. Use the argument 'overwrite=True' in the future. [astropy.io.ascii.ui]\n"
     ]
    },
    {
     "name": "stdout",
     "output_type": "stream",
     "text": [
      "SolCal_M35_LIGHT_G_120_-5C_20210202_233712_979_E_0003.fits\n",
      "stars and apertures created with wcs_world2pix, starting aperture photometry\n"
     ]
    },
    {
     "name": "stderr",
     "output_type": "stream",
     "text": [
      "<ipython-input-4-0ac2f41d0552>:63: RuntimeWarning: invalid value encountered in log10\n",
      "  phot_table[f\"mag {header['FILTER']}\"] =-2.5*np.log10(filter_flux)\n",
      "WARNING: AstropyDeprecationWarning: /data/observatory/student_data/natalia_bajnokova/M35/Calibrated_3000x3000/G/data_SolCal_M35_LIGHT_G_120_-5C_20210202_233712_979_E_0003.fits.dat already exists. Automatically overwriting ASCII files is deprecated. Use the argument 'overwrite=True' in the future. [astropy.io.ascii.ui]\n"
     ]
    },
    {
     "name": "stdout",
     "output_type": "stream",
     "text": [
      "SolCal_M35_LIGHT_G_120_-5C_20210202_233940_884_E_0004.fits\n",
      "stars and apertures created with wcs_world2pix, starting aperture photometry\n"
     ]
    },
    {
     "name": "stderr",
     "output_type": "stream",
     "text": [
      "<ipython-input-4-0ac2f41d0552>:63: RuntimeWarning: invalid value encountered in log10\n",
      "  phot_table[f\"mag {header['FILTER']}\"] =-2.5*np.log10(filter_flux)\n",
      "WARNING: AstropyDeprecationWarning: /data/observatory/student_data/natalia_bajnokova/M35/Calibrated_3000x3000/G/data_SolCal_M35_LIGHT_G_120_-5C_20210202_233940_884_E_0004.fits.dat already exists. Automatically overwriting ASCII files is deprecated. Use the argument 'overwrite=True' in the future. [astropy.io.ascii.ui]\n"
     ]
    },
    {
     "name": "stdout",
     "output_type": "stream",
     "text": [
      "SolCal_M35_LIGHT_G_120_-5C_20210202_234148_099_E_0005.fits\n",
      "stars and apertures created with wcs_world2pix, starting aperture photometry\n"
     ]
    },
    {
     "name": "stderr",
     "output_type": "stream",
     "text": [
      "<ipython-input-4-0ac2f41d0552>:63: RuntimeWarning: invalid value encountered in log10\n",
      "  phot_table[f\"mag {header['FILTER']}\"] =-2.5*np.log10(filter_flux)\n",
      "WARNING: AstropyDeprecationWarning: /data/observatory/student_data/natalia_bajnokova/M35/Calibrated_3000x3000/G/data_SolCal_M35_LIGHT_G_120_-5C_20210202_234148_099_E_0005.fits.dat already exists. Automatically overwriting ASCII files is deprecated. Use the argument 'overwrite=True' in the future. [astropy.io.ascii.ui]\n"
     ]
    },
    {
     "name": "stdout",
     "output_type": "stream",
     "text": [
      "SolCal_M35_LIGHT_G_120_-5C_20210202_234417_442_E_0006.fits\n",
      "stars and apertures created with wcs_world2pix, starting aperture photometry\n"
     ]
    },
    {
     "name": "stderr",
     "output_type": "stream",
     "text": [
      "<ipython-input-4-0ac2f41d0552>:63: RuntimeWarning: invalid value encountered in log10\n",
      "  phot_table[f\"mag {header['FILTER']}\"] =-2.5*np.log10(filter_flux)\n",
      "WARNING: AstropyDeprecationWarning: /data/observatory/student_data/natalia_bajnokova/M35/Calibrated_3000x3000/G/data_SolCal_M35_LIGHT_G_120_-5C_20210202_234417_442_E_0006.fits.dat already exists. Automatically overwriting ASCII files is deprecated. Use the argument 'overwrite=True' in the future. [astropy.io.ascii.ui]\n"
     ]
    },
    {
     "name": "stdout",
     "output_type": "stream",
     "text": [
      "SolCal_M35_LIGHT_G_120_-5C_20210202_234624_253_E_0007.fits\n",
      "stars and apertures created with wcs_world2pix, starting aperture photometry\n"
     ]
    },
    {
     "name": "stderr",
     "output_type": "stream",
     "text": [
      "<ipython-input-4-0ac2f41d0552>:63: RuntimeWarning: invalid value encountered in log10\n",
      "  phot_table[f\"mag {header['FILTER']}\"] =-2.5*np.log10(filter_flux)\n",
      "WARNING: AstropyDeprecationWarning: /data/observatory/student_data/natalia_bajnokova/M35/Calibrated_3000x3000/G/data_SolCal_M35_LIGHT_G_120_-5C_20210202_234624_253_E_0007.fits.dat already exists. Automatically overwriting ASCII files is deprecated. Use the argument 'overwrite=True' in the future. [astropy.io.ascii.ui]\n"
     ]
    },
    {
     "name": "stdout",
     "output_type": "stream",
     "text": [
      "SolCal_M35_LIGHT_G_120_-5C_20210202_234853_122_E_0008.fits\n",
      "stars and apertures created with wcs_world2pix, starting aperture photometry\n"
     ]
    },
    {
     "name": "stderr",
     "output_type": "stream",
     "text": [
      "<ipython-input-4-0ac2f41d0552>:63: RuntimeWarning: invalid value encountered in log10\n",
      "  phot_table[f\"mag {header['FILTER']}\"] =-2.5*np.log10(filter_flux)\n",
      "WARNING: AstropyDeprecationWarning: /data/observatory/student_data/natalia_bajnokova/M35/Calibrated_3000x3000/G/data_SolCal_M35_LIGHT_G_120_-5C_20210202_234853_122_E_0008.fits.dat already exists. Automatically overwriting ASCII files is deprecated. Use the argument 'overwrite=True' in the future. [astropy.io.ascii.ui]\n"
     ]
    },
    {
     "name": "stdout",
     "output_type": "stream",
     "text": [
      "SolCal_M35_LIGHT_G_120_-5C_20210202_235059_961_E_0009.fits\n",
      "stars and apertures created with wcs_world2pix, starting aperture photometry\n"
     ]
    },
    {
     "name": "stderr",
     "output_type": "stream",
     "text": [
      "<ipython-input-4-0ac2f41d0552>:63: RuntimeWarning: invalid value encountered in log10\n",
      "  phot_table[f\"mag {header['FILTER']}\"] =-2.5*np.log10(filter_flux)\n",
      "WARNING: AstropyDeprecationWarning: /data/observatory/student_data/natalia_bajnokova/M35/Calibrated_3000x3000/G/data_SolCal_M35_LIGHT_G_120_-5C_20210202_235059_961_E_0009.fits.dat already exists. Automatically overwriting ASCII files is deprecated. Use the argument 'overwrite=True' in the future. [astropy.io.ascii.ui]\n"
     ]
    },
    {
     "name": "stdout",
     "output_type": "stream",
     "text": [
      "SolCal_M35_LIGHT_G_120_-5C_20210202_235329_200_E_0010.fits\n",
      "stars and apertures created with wcs_world2pix, starting aperture photometry\n"
     ]
    },
    {
     "name": "stderr",
     "output_type": "stream",
     "text": [
      "<ipython-input-4-0ac2f41d0552>:63: RuntimeWarning: invalid value encountered in log10\n",
      "  phot_table[f\"mag {header['FILTER']}\"] =-2.5*np.log10(filter_flux)\n",
      "WARNING: AstropyDeprecationWarning: /data/observatory/student_data/natalia_bajnokova/M35/Calibrated_3000x3000/G/data_SolCal_M35_LIGHT_G_120_-5C_20210202_235329_200_E_0010.fits.dat already exists. Automatically overwriting ASCII files is deprecated. Use the argument 'overwrite=True' in the future. [astropy.io.ascii.ui]\n"
     ]
    },
    {
     "name": "stdout",
     "output_type": "stream",
     "text": [
      "SolCal_M35_LIGHT_G_120_-5C_20210202_235536_470_E_0011.fits\n",
      "stars and apertures created with wcs_world2pix, starting aperture photometry\n"
     ]
    },
    {
     "name": "stderr",
     "output_type": "stream",
     "text": [
      "<ipython-input-4-0ac2f41d0552>:63: RuntimeWarning: invalid value encountered in log10\n",
      "  phot_table[f\"mag {header['FILTER']}\"] =-2.5*np.log10(filter_flux)\n",
      "WARNING: AstropyDeprecationWarning: /data/observatory/student_data/natalia_bajnokova/M35/Calibrated_3000x3000/G/data_SolCal_M35_LIGHT_G_120_-5C_20210202_235536_470_E_0011.fits.dat already exists. Automatically overwriting ASCII files is deprecated. Use the argument 'overwrite=True' in the future. [astropy.io.ascii.ui]\n"
     ]
    },
    {
     "name": "stdout",
     "output_type": "stream",
     "text": [
      "SolCal_M35_LIGHT_G_120_-5C_20210202_235805_496_E_0012.fits\n",
      "stars and apertures created with wcs_world2pix, starting aperture photometry\n"
     ]
    },
    {
     "name": "stderr",
     "output_type": "stream",
     "text": [
      "<ipython-input-4-0ac2f41d0552>:63: RuntimeWarning: invalid value encountered in log10\n",
      "  phot_table[f\"mag {header['FILTER']}\"] =-2.5*np.log10(filter_flux)\n",
      "WARNING: AstropyDeprecationWarning: /data/observatory/student_data/natalia_bajnokova/M35/Calibrated_3000x3000/G/data_SolCal_M35_LIGHT_G_120_-5C_20210202_235805_496_E_0012.fits.dat already exists. Automatically overwriting ASCII files is deprecated. Use the argument 'overwrite=True' in the future. [astropy.io.ascii.ui]\n"
     ]
    },
    {
     "name": "stdout",
     "output_type": "stream",
     "text": [
      "SolCal_M35_LIGHT_G_120_-5C_20210203_000012_096_E_0013.fits\n",
      "stars and apertures created with wcs_world2pix, starting aperture photometry\n"
     ]
    },
    {
     "name": "stderr",
     "output_type": "stream",
     "text": [
      "<ipython-input-4-0ac2f41d0552>:63: RuntimeWarning: invalid value encountered in log10\n",
      "  phot_table[f\"mag {header['FILTER']}\"] =-2.5*np.log10(filter_flux)\n",
      "WARNING: AstropyDeprecationWarning: /data/observatory/student_data/natalia_bajnokova/M35/Calibrated_3000x3000/G/data_SolCal_M35_LIGHT_G_120_-5C_20210203_000012_096_E_0013.fits.dat already exists. Automatically overwriting ASCII files is deprecated. Use the argument 'overwrite=True' in the future. [astropy.io.ascii.ui]\n"
     ]
    },
    {
     "name": "stdout",
     "output_type": "stream",
     "text": [
      "SolCal_M35_LIGHT_G_120_-5C_20210203_000240_344_E_0014.fits\n",
      "stars and apertures created with wcs_world2pix, starting aperture photometry\n"
     ]
    },
    {
     "name": "stderr",
     "output_type": "stream",
     "text": [
      "<ipython-input-4-0ac2f41d0552>:63: RuntimeWarning: invalid value encountered in log10\n",
      "  phot_table[f\"mag {header['FILTER']}\"] =-2.5*np.log10(filter_flux)\n",
      "WARNING: AstropyDeprecationWarning: /data/observatory/student_data/natalia_bajnokova/M35/Calibrated_3000x3000/G/data_SolCal_M35_LIGHT_G_120_-5C_20210203_000240_344_E_0014.fits.dat already exists. Automatically overwriting ASCII files is deprecated. Use the argument 'overwrite=True' in the future. [astropy.io.ascii.ui]\n"
     ]
    },
    {
     "name": "stdout",
     "output_type": "stream",
     "text": [
      "SolCal_M35_LIGHT_G_120_-5C_20210203_000525_598_E_0015.fits\n",
      "stars and apertures created with wcs_world2pix, starting aperture photometry\n"
     ]
    },
    {
     "name": "stderr",
     "output_type": "stream",
     "text": [
      "<ipython-input-4-0ac2f41d0552>:63: RuntimeWarning: invalid value encountered in log10\n",
      "  phot_table[f\"mag {header['FILTER']}\"] =-2.5*np.log10(filter_flux)\n",
      "WARNING: AstropyDeprecationWarning: /data/observatory/student_data/natalia_bajnokova/M35/Calibrated_3000x3000/G/data_SolCal_M35_LIGHT_G_120_-5C_20210203_000525_598_E_0015.fits.dat already exists. Automatically overwriting ASCII files is deprecated. Use the argument 'overwrite=True' in the future. [astropy.io.ascii.ui]\n"
     ]
    },
    {
     "name": "stdout",
     "output_type": "stream",
     "text": [
      "SolCal_M35_LIGHT_G_120_-5C_20210203_000754_376_E_0016.fits\n",
      "stars and apertures created with wcs_world2pix, starting aperture photometry\n"
     ]
    },
    {
     "name": "stderr",
     "output_type": "stream",
     "text": [
      "<ipython-input-4-0ac2f41d0552>:63: RuntimeWarning: invalid value encountered in log10\n",
      "  phot_table[f\"mag {header['FILTER']}\"] =-2.5*np.log10(filter_flux)\n",
      "WARNING: AstropyDeprecationWarning: /data/observatory/student_data/natalia_bajnokova/M35/Calibrated_3000x3000/G/data_SolCal_M35_LIGHT_G_120_-5C_20210203_000754_376_E_0016.fits.dat already exists. Automatically overwriting ASCII files is deprecated. Use the argument 'overwrite=True' in the future. [astropy.io.ascii.ui]\n"
     ]
    },
    {
     "name": "stdout",
     "output_type": "stream",
     "text": [
      "SolCal_M35_LIGHT_G_120_-5C_20210203_001000_905_E_0017.fits\n",
      "stars and apertures created with wcs_world2pix, starting aperture photometry\n"
     ]
    },
    {
     "name": "stderr",
     "output_type": "stream",
     "text": [
      "<ipython-input-4-0ac2f41d0552>:63: RuntimeWarning: invalid value encountered in log10\n",
      "  phot_table[f\"mag {header['FILTER']}\"] =-2.5*np.log10(filter_flux)\n",
      "WARNING: AstropyDeprecationWarning: /data/observatory/student_data/natalia_bajnokova/M35/Calibrated_3000x3000/G/data_SolCal_M35_LIGHT_G_120_-5C_20210203_001000_905_E_0017.fits.dat already exists. Automatically overwriting ASCII files is deprecated. Use the argument 'overwrite=True' in the future. [astropy.io.ascii.ui]\n"
     ]
    },
    {
     "name": "stdout",
     "output_type": "stream",
     "text": [
      "SolCal_M35_LIGHT_G_120_-5C_20210203_001229_430_E_0018.fits\n",
      "stars and apertures created with wcs_world2pix, starting aperture photometry\n"
     ]
    },
    {
     "name": "stderr",
     "output_type": "stream",
     "text": [
      "<ipython-input-4-0ac2f41d0552>:63: RuntimeWarning: invalid value encountered in log10\n",
      "  phot_table[f\"mag {header['FILTER']}\"] =-2.5*np.log10(filter_flux)\n"
     ]
    },
    {
     "name": "stdout",
     "output_type": "stream",
     "text": [
      "SolCal_M35_LIGHT_G_120_-5C_20210203_001436_250_E_0019.fits\n",
      "stars and apertures created with wcs_world2pix, starting aperture photometry\n"
     ]
    },
    {
     "name": "stderr",
     "output_type": "stream",
     "text": [
      "<ipython-input-4-0ac2f41d0552>:63: RuntimeWarning: invalid value encountered in log10\n",
      "  phot_table[f\"mag {header['FILTER']}\"] =-2.5*np.log10(filter_flux)\n"
     ]
    },
    {
     "name": "stdout",
     "output_type": "stream",
     "text": [
      "SolCal_M35_LIGHT_G_120_-5C_20210203_001705_159_E_0020.fits\n",
      "stars and apertures created with wcs_world2pix, starting aperture photometry\n"
     ]
    },
    {
     "name": "stderr",
     "output_type": "stream",
     "text": [
      "<ipython-input-4-0ac2f41d0552>:63: RuntimeWarning: invalid value encountered in log10\n",
      "  phot_table[f\"mag {header['FILTER']}\"] =-2.5*np.log10(filter_flux)\n"
     ]
    },
    {
     "name": "stdout",
     "output_type": "stream",
     "text": [
      "SolCal_M35_LIGHT_I_120_-5C_20210202_224249_052_E_0001.fits\n",
      "stars and apertures created with wcs_world2pix, starting aperture photometry\n"
     ]
    },
    {
     "name": "stderr",
     "output_type": "stream",
     "text": [
      "<ipython-input-4-0ac2f41d0552>:63: RuntimeWarning: invalid value encountered in log10\n",
      "  phot_table[f\"mag {header['FILTER']}\"] =-2.5*np.log10(filter_flux)\n"
     ]
    },
    {
     "name": "stdout",
     "output_type": "stream",
     "text": [
      "SolCal_M35_LIGHT_I_120_-5C_20210202_224459_016_E_0002.fits\n",
      "stars and apertures created with wcs_world2pix, starting aperture photometry\n"
     ]
    },
    {
     "name": "stderr",
     "output_type": "stream",
     "text": [
      "<ipython-input-4-0ac2f41d0552>:63: RuntimeWarning: invalid value encountered in log10\n",
      "  phot_table[f\"mag {header['FILTER']}\"] =-2.5*np.log10(filter_flux)\n"
     ]
    },
    {
     "name": "stdout",
     "output_type": "stream",
     "text": [
      "SolCal_M35_LIGHT_I_120_-5C_20210202_224727_750_E_0003.fits\n",
      "stars and apertures created with wcs_world2pix, starting aperture photometry\n"
     ]
    },
    {
     "name": "stderr",
     "output_type": "stream",
     "text": [
      "<ipython-input-4-0ac2f41d0552>:63: RuntimeWarning: invalid value encountered in log10\n",
      "  phot_table[f\"mag {header['FILTER']}\"] =-2.5*np.log10(filter_flux)\n"
     ]
    },
    {
     "name": "stdout",
     "output_type": "stream",
     "text": [
      "SolCal_M35_LIGHT_I_120_-5C_20210202_224934_721_E_0004.fits\n",
      "stars and apertures created with wcs_world2pix, starting aperture photometry\n"
     ]
    },
    {
     "name": "stderr",
     "output_type": "stream",
     "text": [
      "<ipython-input-4-0ac2f41d0552>:63: RuntimeWarning: invalid value encountered in log10\n",
      "  phot_table[f\"mag {header['FILTER']}\"] =-2.5*np.log10(filter_flux)\n"
     ]
    },
    {
     "name": "stdout",
     "output_type": "stream",
     "text": [
      "SolCal_M35_LIGHT_I_120_-5C_20210202_225204_364_E_0005.fits\n",
      "stars and apertures created with wcs_world2pix, starting aperture photometry\n"
     ]
    },
    {
     "name": "stderr",
     "output_type": "stream",
     "text": [
      "<ipython-input-4-0ac2f41d0552>:63: RuntimeWarning: invalid value encountered in log10\n",
      "  phot_table[f\"mag {header['FILTER']}\"] =-2.5*np.log10(filter_flux)\n"
     ]
    },
    {
     "name": "stdout",
     "output_type": "stream",
     "text": [
      "SolCal_M35_LIGHT_I_120_-5C_20210202_225411_479_E_0006.fits\n",
      "stars and apertures created with wcs_world2pix, starting aperture photometry\n"
     ]
    },
    {
     "name": "stderr",
     "output_type": "stream",
     "text": [
      "<ipython-input-4-0ac2f41d0552>:63: RuntimeWarning: invalid value encountered in log10\n",
      "  phot_table[f\"mag {header['FILTER']}\"] =-2.5*np.log10(filter_flux)\n"
     ]
    },
    {
     "name": "stdout",
     "output_type": "stream",
     "text": [
      "SolCal_M35_LIGHT_I_120_-5C_20210202_225640_757_E_0007.fits\n",
      "stars and apertures created with wcs_world2pix, starting aperture photometry\n"
     ]
    },
    {
     "name": "stderr",
     "output_type": "stream",
     "text": [
      "<ipython-input-4-0ac2f41d0552>:63: RuntimeWarning: invalid value encountered in log10\n",
      "  phot_table[f\"mag {header['FILTER']}\"] =-2.5*np.log10(filter_flux)\n"
     ]
    },
    {
     "name": "stdout",
     "output_type": "stream",
     "text": [
      "SolCal_M35_LIGHT_I_120_-5C_20210202_225847_325_E_0008.fits\n",
      "stars and apertures created with wcs_world2pix, starting aperture photometry\n"
     ]
    },
    {
     "name": "stderr",
     "output_type": "stream",
     "text": [
      "<ipython-input-4-0ac2f41d0552>:63: RuntimeWarning: invalid value encountered in log10\n",
      "  phot_table[f\"mag {header['FILTER']}\"] =-2.5*np.log10(filter_flux)\n"
     ]
    },
    {
     "name": "stdout",
     "output_type": "stream",
     "text": [
      "SolCal_M35_LIGHT_I_120_-5C_20210202_230115_959_E_0009.fits\n",
      "stars and apertures created with wcs_world2pix, starting aperture photometry\n"
     ]
    },
    {
     "name": "stderr",
     "output_type": "stream",
     "text": [
      "<ipython-input-4-0ac2f41d0552>:63: RuntimeWarning: invalid value encountered in log10\n",
      "  phot_table[f\"mag {header['FILTER']}\"] =-2.5*np.log10(filter_flux)\n"
     ]
    },
    {
     "name": "stdout",
     "output_type": "stream",
     "text": [
      "SolCal_M35_LIGHT_I_120_-5C_20210202_230323_008_E_0010.fits\n",
      "stars and apertures created with wcs_world2pix, starting aperture photometry\n"
     ]
    },
    {
     "name": "stderr",
     "output_type": "stream",
     "text": [
      "<ipython-input-4-0ac2f41d0552>:63: RuntimeWarning: invalid value encountered in log10\n",
      "  phot_table[f\"mag {header['FILTER']}\"] =-2.5*np.log10(filter_flux)\n"
     ]
    },
    {
     "name": "stdout",
     "output_type": "stream",
     "text": [
      "SolCal_M35_LIGHT_I_120_-5C_20210202_230552_335_E_0011.fits\n",
      "stars and apertures created with wcs_world2pix, starting aperture photometry\n"
     ]
    },
    {
     "name": "stderr",
     "output_type": "stream",
     "text": [
      "<ipython-input-4-0ac2f41d0552>:63: RuntimeWarning: invalid value encountered in log10\n",
      "  phot_table[f\"mag {header['FILTER']}\"] =-2.5*np.log10(filter_flux)\n"
     ]
    },
    {
     "name": "stdout",
     "output_type": "stream",
     "text": [
      "SolCal_M35_LIGHT_I_120_-5C_20210202_230758_965_E_0012.fits\n",
      "stars and apertures created with wcs_world2pix, starting aperture photometry\n"
     ]
    },
    {
     "name": "stderr",
     "output_type": "stream",
     "text": [
      "<ipython-input-4-0ac2f41d0552>:63: RuntimeWarning: invalid value encountered in log10\n",
      "  phot_table[f\"mag {header['FILTER']}\"] =-2.5*np.log10(filter_flux)\n"
     ]
    },
    {
     "name": "stdout",
     "output_type": "stream",
     "text": [
      "SolCal_M35_LIGHT_I_120_-5C_20210202_231027_694_E_0013.fits\n",
      "stars and apertures created with wcs_world2pix, starting aperture photometry\n"
     ]
    },
    {
     "name": "stderr",
     "output_type": "stream",
     "text": [
      "<ipython-input-4-0ac2f41d0552>:63: RuntimeWarning: invalid value encountered in log10\n",
      "  phot_table[f\"mag {header['FILTER']}\"] =-2.5*np.log10(filter_flux)\n"
     ]
    },
    {
     "name": "stdout",
     "output_type": "stream",
     "text": [
      "SolCal_M35_LIGHT_I_120_-5C_20210202_231234_583_E_0014.fits\n",
      "stars and apertures created with wcs_world2pix, starting aperture photometry\n"
     ]
    },
    {
     "name": "stderr",
     "output_type": "stream",
     "text": [
      "<ipython-input-4-0ac2f41d0552>:63: RuntimeWarning: invalid value encountered in log10\n",
      "  phot_table[f\"mag {header['FILTER']}\"] =-2.5*np.log10(filter_flux)\n"
     ]
    },
    {
     "name": "stdout",
     "output_type": "stream",
     "text": [
      "SolCal_M35_LIGHT_I_120_-5C_20210202_231503_873_E_0015.fits\n",
      "stars and apertures created with wcs_world2pix, starting aperture photometry\n"
     ]
    },
    {
     "name": "stderr",
     "output_type": "stream",
     "text": [
      "<ipython-input-4-0ac2f41d0552>:63: RuntimeWarning: invalid value encountered in log10\n",
      "  phot_table[f\"mag {header['FILTER']}\"] =-2.5*np.log10(filter_flux)\n"
     ]
    },
    {
     "name": "stdout",
     "output_type": "stream",
     "text": [
      "SolCal_M35_LIGHT_I_120_-5C_20210202_231710_963_E_0016.fits\n",
      "stars and apertures created with wcs_world2pix, starting aperture photometry\n"
     ]
    },
    {
     "name": "stderr",
     "output_type": "stream",
     "text": [
      "<ipython-input-4-0ac2f41d0552>:63: RuntimeWarning: invalid value encountered in log10\n",
      "  phot_table[f\"mag {header['FILTER']}\"] =-2.5*np.log10(filter_flux)\n"
     ]
    },
    {
     "name": "stdout",
     "output_type": "stream",
     "text": [
      "SolCal_M35_LIGHT_I_120_-5C_20210202_231939_287_E_0017.fits\n",
      "stars and apertures created with wcs_world2pix, starting aperture photometry\n"
     ]
    },
    {
     "name": "stderr",
     "output_type": "stream",
     "text": [
      "<ipython-input-4-0ac2f41d0552>:63: RuntimeWarning: invalid value encountered in log10\n",
      "  phot_table[f\"mag {header['FILTER']}\"] =-2.5*np.log10(filter_flux)\n"
     ]
    },
    {
     "name": "stdout",
     "output_type": "stream",
     "text": [
      "SolCal_M35_LIGHT_I_120_-5C_20210202_232145_871_E_0018.fits\n",
      "stars and apertures created with wcs_world2pix, starting aperture photometry\n"
     ]
    },
    {
     "name": "stderr",
     "output_type": "stream",
     "text": [
      "<ipython-input-4-0ac2f41d0552>:63: RuntimeWarning: invalid value encountered in log10\n",
      "  phot_table[f\"mag {header['FILTER']}\"] =-2.5*np.log10(filter_flux)\n"
     ]
    },
    {
     "name": "stdout",
     "output_type": "stream",
     "text": [
      "SolCal_M35_LIGHT_I_120_-5C_20210202_232456_098_E_0019.fits\n",
      "stars and apertures created with wcs_world2pix, starting aperture photometry\n"
     ]
    },
    {
     "name": "stderr",
     "output_type": "stream",
     "text": [
      "<ipython-input-4-0ac2f41d0552>:63: RuntimeWarning: invalid value encountered in log10\n",
      "  phot_table[f\"mag {header['FILTER']}\"] =-2.5*np.log10(filter_flux)\n"
     ]
    },
    {
     "name": "stdout",
     "output_type": "stream",
     "text": [
      "SolCal_M35_LIGHT_I_120_-5C_20210202_232705_909_E_0020.fits\n",
      "stars and apertures created with wcs_world2pix, starting aperture photometry\n"
     ]
    },
    {
     "name": "stderr",
     "output_type": "stream",
     "text": [
      "<ipython-input-4-0ac2f41d0552>:63: RuntimeWarning: invalid value encountered in log10\n",
      "  phot_table[f\"mag {header['FILTER']}\"] =-2.5*np.log10(filter_flux)\n"
     ]
    },
    {
     "name": "stdout",
     "output_type": "stream",
     "text": [
      "SolCal_M35_LIGHT_R_120_-5C_20210203_002230_718_E_0001.fits\n",
      "stars and apertures created with wcs_world2pix, starting aperture photometry\n"
     ]
    },
    {
     "name": "stderr",
     "output_type": "stream",
     "text": [
      "<ipython-input-4-0ac2f41d0552>:63: RuntimeWarning: invalid value encountered in log10\n",
      "  phot_table[f\"mag {header['FILTER']}\"] =-2.5*np.log10(filter_flux)\n"
     ]
    },
    {
     "name": "stdout",
     "output_type": "stream",
     "text": [
      "SolCal_M35_LIGHT_R_120_-5C_20210203_002500_678_E_0002.fits\n",
      "stars and apertures created with wcs_world2pix, starting aperture photometry\n"
     ]
    },
    {
     "name": "stderr",
     "output_type": "stream",
     "text": [
      "<ipython-input-4-0ac2f41d0552>:63: RuntimeWarning: invalid value encountered in log10\n",
      "  phot_table[f\"mag {header['FILTER']}\"] =-2.5*np.log10(filter_flux)\n"
     ]
    },
    {
     "name": "stdout",
     "output_type": "stream",
     "text": [
      "SolCal_M35_LIGHT_R_120_-5C_20210203_002707_324_E_0003.fits\n",
      "stars and apertures created with wcs_world2pix, starting aperture photometry\n"
     ]
    },
    {
     "name": "stderr",
     "output_type": "stream",
     "text": [
      "<ipython-input-4-0ac2f41d0552>:63: RuntimeWarning: invalid value encountered in log10\n",
      "  phot_table[f\"mag {header['FILTER']}\"] =-2.5*np.log10(filter_flux)\n"
     ]
    },
    {
     "name": "stdout",
     "output_type": "stream",
     "text": [
      "SolCal_M35_LIGHT_R_120_-5C_20210203_002935_756_E_0004.fits\n",
      "stars and apertures created with wcs_world2pix, starting aperture photometry\n"
     ]
    },
    {
     "name": "stderr",
     "output_type": "stream",
     "text": [
      "<ipython-input-4-0ac2f41d0552>:63: RuntimeWarning: invalid value encountered in log10\n",
      "  phot_table[f\"mag {header['FILTER']}\"] =-2.5*np.log10(filter_flux)\n"
     ]
    },
    {
     "name": "stdout",
     "output_type": "stream",
     "text": [
      "SolCal_M35_LIGHT_R_120_-5C_20210203_003142_738_E_0005.fits\n",
      "stars and apertures created with wcs_world2pix, starting aperture photometry\n"
     ]
    },
    {
     "name": "stderr",
     "output_type": "stream",
     "text": [
      "<ipython-input-4-0ac2f41d0552>:63: RuntimeWarning: invalid value encountered in log10\n",
      "  phot_table[f\"mag {header['FILTER']}\"] =-2.5*np.log10(filter_flux)\n"
     ]
    },
    {
     "name": "stdout",
     "output_type": "stream",
     "text": [
      "SolCal_M35_LIGHT_R_120_-5C_20210203_003411_063_E_0006.fits\n",
      "stars and apertures created with wcs_world2pix, starting aperture photometry\n"
     ]
    },
    {
     "name": "stderr",
     "output_type": "stream",
     "text": [
      "<ipython-input-4-0ac2f41d0552>:63: RuntimeWarning: invalid value encountered in log10\n",
      "  phot_table[f\"mag {header['FILTER']}\"] =-2.5*np.log10(filter_flux)\n"
     ]
    },
    {
     "name": "stdout",
     "output_type": "stream",
     "text": [
      "SolCal_M35_LIGHT_R_120_-5C_20210203_003617_575_E_0007.fits\n",
      "stars and apertures created with wcs_world2pix, starting aperture photometry\n"
     ]
    },
    {
     "name": "stderr",
     "output_type": "stream",
     "text": [
      "<ipython-input-4-0ac2f41d0552>:63: RuntimeWarning: invalid value encountered in log10\n",
      "  phot_table[f\"mag {header['FILTER']}\"] =-2.5*np.log10(filter_flux)\n"
     ]
    },
    {
     "name": "stdout",
     "output_type": "stream",
     "text": [
      "SolCal_M35_LIGHT_R_120_-5C_20210203_003846_148_E_0008.fits\n",
      "stars and apertures created with wcs_world2pix, starting aperture photometry\n"
     ]
    },
    {
     "name": "stderr",
     "output_type": "stream",
     "text": [
      "<ipython-input-4-0ac2f41d0552>:63: RuntimeWarning: invalid value encountered in log10\n",
      "  phot_table[f\"mag {header['FILTER']}\"] =-2.5*np.log10(filter_flux)\n"
     ]
    },
    {
     "name": "stdout",
     "output_type": "stream",
     "text": [
      "SolCal_M35_LIGHT_R_120_-5C_20210203_004053_097_E_0009.fits\n",
      "stars and apertures created with wcs_world2pix, starting aperture photometry\n"
     ]
    },
    {
     "name": "stderr",
     "output_type": "stream",
     "text": [
      "<ipython-input-4-0ac2f41d0552>:63: RuntimeWarning: invalid value encountered in log10\n",
      "  phot_table[f\"mag {header['FILTER']}\"] =-2.5*np.log10(filter_flux)\n"
     ]
    },
    {
     "name": "stdout",
     "output_type": "stream",
     "text": [
      "SolCal_M35_LIGHT_R_120_-5C_20210203_004322_121_E_0010.fits\n",
      "stars and apertures created with wcs_world2pix, starting aperture photometry\n"
     ]
    },
    {
     "name": "stderr",
     "output_type": "stream",
     "text": [
      "<ipython-input-4-0ac2f41d0552>:63: RuntimeWarning: invalid value encountered in log10\n",
      "  phot_table[f\"mag {header['FILTER']}\"] =-2.5*np.log10(filter_flux)\n"
     ]
    },
    {
     "name": "stdout",
     "output_type": "stream",
     "text": [
      "SolCal_M35_LIGHT_R_120_-5C_20210203_004608_672_E_0011.fits\n",
      "stars and apertures created with wcs_world2pix, starting aperture photometry\n"
     ]
    },
    {
     "name": "stderr",
     "output_type": "stream",
     "text": [
      "<ipython-input-4-0ac2f41d0552>:63: RuntimeWarning: invalid value encountered in log10\n",
      "  phot_table[f\"mag {header['FILTER']}\"] =-2.5*np.log10(filter_flux)\n"
     ]
    },
    {
     "name": "stdout",
     "output_type": "stream",
     "text": [
      "SolCal_M35_LIGHT_R_120_-5C_20210203_004839_811_E_0012.fits\n",
      "stars and apertures created with wcs_world2pix, starting aperture photometry\n"
     ]
    },
    {
     "name": "stderr",
     "output_type": "stream",
     "text": [
      "<ipython-input-4-0ac2f41d0552>:63: RuntimeWarning: invalid value encountered in log10\n",
      "  phot_table[f\"mag {header['FILTER']}\"] =-2.5*np.log10(filter_flux)\n"
     ]
    },
    {
     "name": "stdout",
     "output_type": "stream",
     "text": [
      "SolCal_M35_LIGHT_R_120_-5C_20210203_005046_536_E_0013.fits\n",
      "stars and apertures created with wcs_world2pix, starting aperture photometry\n"
     ]
    },
    {
     "name": "stderr",
     "output_type": "stream",
     "text": [
      "<ipython-input-4-0ac2f41d0552>:63: RuntimeWarning: invalid value encountered in log10\n",
      "  phot_table[f\"mag {header['FILTER']}\"] =-2.5*np.log10(filter_flux)\n"
     ]
    },
    {
     "name": "stdout",
     "output_type": "stream",
     "text": [
      "SolCal_M35_LIGHT_R_120_-5C_20210203_005314_936_E_0014.fits\n",
      "stars and apertures created with wcs_world2pix, starting aperture photometry\n"
     ]
    },
    {
     "name": "stderr",
     "output_type": "stream",
     "text": [
      "<ipython-input-4-0ac2f41d0552>:63: RuntimeWarning: invalid value encountered in log10\n",
      "  phot_table[f\"mag {header['FILTER']}\"] =-2.5*np.log10(filter_flux)\n"
     ]
    },
    {
     "name": "stdout",
     "output_type": "stream",
     "text": [
      "SolCal_M35_LIGHT_R_120_-5C_20210203_005521_739_E_0015.fits\n",
      "stars and apertures created with wcs_world2pix, starting aperture photometry\n"
     ]
    },
    {
     "name": "stderr",
     "output_type": "stream",
     "text": [
      "<ipython-input-4-0ac2f41d0552>:63: RuntimeWarning: invalid value encountered in log10\n",
      "  phot_table[f\"mag {header['FILTER']}\"] =-2.5*np.log10(filter_flux)\n"
     ]
    },
    {
     "name": "stdout",
     "output_type": "stream",
     "text": [
      "SolCal_M35_LIGHT_R_120_-5C_20210203_005749_780_E_0016.fits\n",
      "stars and apertures created with wcs_world2pix, starting aperture photometry\n"
     ]
    },
    {
     "name": "stderr",
     "output_type": "stream",
     "text": [
      "<ipython-input-4-0ac2f41d0552>:63: RuntimeWarning: invalid value encountered in log10\n",
      "  phot_table[f\"mag {header['FILTER']}\"] =-2.5*np.log10(filter_flux)\n"
     ]
    },
    {
     "name": "stdout",
     "output_type": "stream",
     "text": [
      "SolCal_M35_LIGHT_R_120_-5C_20210203_005956_857_E_0017.fits\n",
      "stars and apertures created with wcs_world2pix, starting aperture photometry\n"
     ]
    },
    {
     "name": "stderr",
     "output_type": "stream",
     "text": [
      "<ipython-input-4-0ac2f41d0552>:63: RuntimeWarning: invalid value encountered in log10\n",
      "  phot_table[f\"mag {header['FILTER']}\"] =-2.5*np.log10(filter_flux)\n"
     ]
    },
    {
     "name": "stdout",
     "output_type": "stream",
     "text": [
      "SolCal_M35_LIGHT_R_120_-5C_20210203_010225_911_E_0018.fits\n",
      "stars and apertures created with wcs_world2pix, starting aperture photometry\n"
     ]
    },
    {
     "name": "stderr",
     "output_type": "stream",
     "text": [
      "<ipython-input-4-0ac2f41d0552>:63: RuntimeWarning: invalid value encountered in log10\n",
      "  phot_table[f\"mag {header['FILTER']}\"] =-2.5*np.log10(filter_flux)\n"
     ]
    },
    {
     "name": "stdout",
     "output_type": "stream",
     "text": [
      "SolCal_M35_LIGHT_R_120_-5C_20210203_010432_665_E_0019.fits\n",
      "stars and apertures created with wcs_world2pix, starting aperture photometry\n"
     ]
    },
    {
     "name": "stderr",
     "output_type": "stream",
     "text": [
      "<ipython-input-4-0ac2f41d0552>:63: RuntimeWarning: invalid value encountered in log10\n",
      "  phot_table[f\"mag {header['FILTER']}\"] =-2.5*np.log10(filter_flux)\n"
     ]
    },
    {
     "name": "stdout",
     "output_type": "stream",
     "text": [
      "SolCal_M35_LIGHT_R_120_-5C_20210203_010701_032_E_0020.fits\n",
      "stars and apertures created with wcs_world2pix, starting aperture photometry\n"
     ]
    },
    {
     "name": "stderr",
     "output_type": "stream",
     "text": [
      "<ipython-input-4-0ac2f41d0552>:63: RuntimeWarning: invalid value encountered in log10\n",
      "  phot_table[f\"mag {header['FILTER']}\"] =-2.5*np.log10(filter_flux)\n"
     ]
    },
    {
     "ename": "SyntaxError",
     "evalue": "'return' outside function (<ipython-input-4-0ac2f41d0552>, line 115)",
     "output_type": "error",
     "traceback": [
      "\u001b[0;36m  File \u001b[0;32m\"<ipython-input-4-0ac2f41d0552>\"\u001b[0;36m, line \u001b[0;32m115\u001b[0m\n\u001b[0;31m    return stars\u001b[0m\n\u001b[0m    ^\u001b[0m\n\u001b[0;31mSyntaxError\u001b[0m\u001b[0;31m:\u001b[0m 'return' outside function\n"
     ]
    }
   ],
   "source": [
    "src = \"M35\"\n",
    "size = \"3000x3000\"\n",
    "\n",
    "# Specify the platesolved image output path\n",
    "Input_directory = '/data/observatory/student_data/Alasdairs File/Output_Files/Cluster Photometry/M35/'\n",
    "\n",
    "# Specify the platesolved image output path\n",
    "#Output_directory = 'examples/a345/lab_projects/shared-data/student_data/Alasdairs File/Output_Files'\n",
    "\n",
    "# folderpath = os.path.join(Input_directory)\n",
    "folderpath = Input_directory\n",
    "\n",
    "filenames = [f for f in listdir(folderpath) if f.endswith('.fits')]\n",
    "\n",
    "filenames.sort()\n",
    "\n",
    "stars = {}\n",
    "\n",
    "table = np.genfromtxt(f'/data/observatory/student_data/natalia_bajnokova/M35/Calibrated_3000x3000/data_cluster_stars_M35.dat', names=True,dtype=None)\n",
    "ra = table['RA']\n",
    "dec = table['DEC']\n",
    "\n",
    "for file in (filenames):\n",
    "    #import fit\n",
    "    print (file)\n",
    "    with fits.open(folderpath+file) as hdu:\n",
    "        header = hdu[0].header\n",
    "        data = hdu[0].data\n",
    "    \n",
    "    filtr = header[\"FILTER\"][0]\n",
    "    wcs = WCS(header)\n",
    "    bkg_sigma = mad_std(data)        # get a measure of the image noise level\n",
    "    SeeingStars = IRAFStarFinder(fwhm=8, threshold=50*bkg_sigma, brightest=250)     # set the detection threshold for a source based on the image noise\n",
    "    SeeingStars = SeeingStars(data)\n",
    "    fwhm = np.mean(SeeingStars['fwhm']) # calculates the average size of the stars in the image\n",
    "\n",
    "    # convert ra and dec positions to pixel positions in the image\n",
    "    xc,yc = wcs.wcs_world2pix(ra, dec, 1)\n",
    "    PixPos = np.transpose((xc,yc))\n",
    "    \n",
    "    # sets the aperature and radii to use\n",
    "    pix_radius = 4*fwhm/2 # 4 times the average star raduis to collect all the possible photons\n",
    "    In_ann = pix_radius*1.2; Out_ann = (In_ann+1)*1.3 # annulus measurements from 1.2*aperture to 1.3*aperture\n",
    "    \n",
    "    # aperture photometry data\n",
    "    aperture = CircularAperture(PixPos, r=pix_radius) # creating the cicular apertures cnetred on the star positions\n",
    "    annulus_aperture = CircularAnnulus(PixPos, r_in=In_ann, r_out=Out_ann) # creating the annulus apertures cnetred on the star positions\n",
    "    apers = [aperture, annulus_aperture]\n",
    "    # Send the created apertures and the calibrated data to do the photometry\n",
    "    print('stars and apertures created with wcs_world2pix, starting aperture photometry')\n",
    "    phot_table = aperture_photometry(data, apers)\n",
    "    \n",
    "    phot_table['RA'] = ra; phot_table['DEC'] = dec                  # add to the table columns for Ra and Dec coordinates of the stars\n",
    "    bkg_mean = phot_table['aperture_sum_1'] / annulus_aperture.area # average value of the annulus around each star\n",
    "    phot_table['background_mean'] = bkg_mean                        # adding the background level to the output table\n",
    "    bkg_sum = bkg_mean * aperture.area                              # background for each star\n",
    "    final_sum = phot_table['aperture_sum_0'] - bkg_sum              # The actual photometry results\n",
    "    filter_counts_name = 'counts_'+header['FILTER']\n",
    "    filter_flux_name = 'flux_'+header['FILTER']\n",
    "    phot_table[filter_counts_name] = final_sum                      #  adding results to the output table\n",
    "    filter_flux = final_sum/header['EXPTIME']\n",
    "    phot_table[filter_flux_name] = filter_flux\n",
    "    phot_table[f\"mag {header['FILTER']}\"] =-2.5*np.log10(filter_flux)\n",
    "\n",
    "    \"\"\"\n",
    "    #Plotting\n",
    "\n",
    "    fig = plt.figure(figsize=(20,20))\n",
    "    plt.imshow(data, cmap=\"gray\", norm=LogNorm(vmin = bkg_mean, vmax=bkg_mean+200) )\n",
    "    star_aperature.plot(color=\"red\")\n",
    "    annulus_aperature.plot(color=\"green\")\n",
    "    plt.show()\n",
    "    \"\"\"\n",
    "\n",
    "\n",
    "    \n",
    "    ra, dec = wcs.wcs_pix2world(phot_table[\"xcenter\"],phot_table[\"ycenter\"], 1)\n",
    "\n",
    "    flux = phot_table[filter_flux_name]\n",
    "    count = phot_table[filter_counts_name]\n",
    "    mag = phot_table[f\"mag {header['FILTER']}\"]\n",
    "    tbl = QTable([ra , dec, flux, count, mag], names=('RA','DEC', \"flux\", \"count\", \"mag\"), masked=True)\n",
    "    tbl.sort(\"flux\")\n",
    "    tbl.reverse()\n",
    "    \n",
    "    ascii.write(tbl, f'/data/observatory/student_data/natalia_bajnokova/{src}/Calibrated_{size}/{filtr}/data_{file}.dat')\n",
    "    for row in tbl:\n",
    "        \n",
    "        if row[\"mag\"] == \"nan\":\n",
    "            pass\n",
    "        else:\n",
    "            r = round(row[\"RA\"], 4)\n",
    "            d = round(row[\"DEC\"], 4)\n",
    "            k = f\"{r}, {d}\"\n",
    "            if k in stars:\n",
    "                if filtr == \"G\":\n",
    "                    obj = stars[k]\n",
    "                    obj.g.add(row[\"flux\"], row[\"mag\"])\n",
    "                elif filtr == \"I\":\n",
    "                    obj = stars[k]\n",
    "                    obj.i.add(row[\"flux\"], row[\"mag\"])\n",
    "                else:\n",
    "                    obj = stars[k]\n",
    "                    obj.r.add(row[\"flux\"], row[\"mag\"])\n",
    "            else:\n",
    "                if filtr == \"G\":\n",
    "                    stars[k] = Star(r, d)\n",
    "                    stars[k].g.add(row[\"flux\"], row[\"mag\"])\n",
    "                elif filtr == \"I\":\n",
    "                    stars[k] = Star(r, d)\n",
    "                    stars[k].i.add(row[\"flux\"], row[\"mag\"])\n",
    "                else:\n",
    "                    stars[k] = Star(r, d)\n",
    "                    stars[k].r.add(row[\"flux\"], row[\"mag\"])"
   ]
  },
  {
   "cell_type": "code",
   "execution_count": null,
   "id": "8d013f12",
   "metadata": {},
   "outputs": [],
   "source": []
  }
 ],
 "metadata": {
  "kernelspec": {
   "display_name": "A345",
   "language": "python",
   "name": "a345"
  },
  "language_info": {
   "codemirror_mode": {
    "name": "ipython",
    "version": 3
   },
   "file_extension": ".py",
   "mimetype": "text/x-python",
   "name": "python",
   "nbconvert_exporter": "python",
   "pygments_lexer": "ipython3",
   "version": "3.8.11"
  }
 },
 "nbformat": 4,
 "nbformat_minor": 5
}
